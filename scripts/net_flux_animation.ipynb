{
 "cells": [
  {
   "cell_type": "markdown",
   "metadata": {},
   "source": [
    "# Animating Monthly Net TOA Fluxe from 2000-2015"
   ]
  },
  {
   "cell_type": "code",
   "execution_count": null,
   "metadata": {
    "collapsed": false
   },
   "outputs": [],
   "source": [
    "import sys\n",
    "sys.path.append(\"/curc/tools/x86_64/rh6/software/visit/2.10.0/2.10.0/linux-x86_64/lib/site-packages\")\n",
    "from visit import *\n",
    "Launch()\n"
   ]
  },
  {
   "cell_type": "code",
   "execution_count": null,
   "metadata": {
    "collapsed": true
   },
   "outputs": [],
   "source": [
    "cwDir=\"localhost:/projects/sasa9973/Energy_Budget/\"\n",
    "imgDir=\"/projects/sasa9973/Energy_Budget/Images/\""
   ]
  },
  {
   "cell_type": "code",
   "execution_count": null,
   "metadata": {
    "collapsed": false
   },
   "outputs": [],
   "source": [
    "def openFile(fileName):\n",
    "    OpenDatabase(cwDir+fileName)\n",
    "\n",
    "def activateDB(fileName):\n",
    "    ActivateDatabase(cwDir+fileName)\n",
    "\n",
    "def drawPseudoColorPlot(varName,cTable,minFlag,min,maxFlag,max,opacity):\n",
    "    activateDB(\"CERES_SYN1deg-Month_200003-201509_Basic.nc\")\n",
    "    AddPlot(\"Pseudocolor\",varName)\n",
    "    PseudocolorAtts = PseudocolorAttributes()\n",
    "    PseudocolorAtts.scaling = PseudocolorAtts.Linear  # Linear, Log, Skew\n",
    "    PseudocolorAtts.limitsMode = PseudocolorAtts.OriginalData  # OriginalData, CurrentPlot\n",
    "    PseudocolorAtts.minFlag = minFlag\n",
    "    PseudocolorAtts.min = min\n",
    "    PseudocolorAtts.maxFlag = maxFlag\n",
    "    PseudocolorAtts.max = max\n",
    "    PseudocolorAtts.colorTableName = cTable\n",
    "    PseudocolorAtts.invertColorTable = 1\n",
    "    PseudocolorAtts.opacityType = PseudocolorAtts.Constant  # ColorTable, FullyOpaque, Constant, Ramp, VariableRange\n",
    "    PseudocolorAtts.legendFlag = 1\n",
    "    PseudocolorAtts.lightingFlag = 1\n",
    "    SetPlotOptions(PseudocolorAtts)\n",
    "\n",
    "def setAnnotations():\n",
    "    AnnotationAtts = AnnotationAttributes()\n",
    "    AnnotationAtts.axes2D.visible = 0\n",
    "    AnnotationAtts.axes3D.visible = 0\n",
    "    AnnotationAtts.axes3D.triadFlag = 0\n",
    "    AnnotationAtts.axes3D.bboxFlag = 0\n",
    "    AnnotationAtts.userInfoFlag = 0\n",
    "    AnnotationAtts.databaseInfoFlag = 0\n",
    "    AnnotationAtts.legendInfoFlag = 1\n",
    "    AnnotationAtts.backgroundColor = (0, 0, 0, 255)\n",
    "    AnnotationAtts.foregroundColor = (255, 255, 255, 255)\n",
    "    AnnotationAtts.backgroundMode = AnnotationAtts.Solid  # Solid, Gradient, Image, ImageSphere\n",
    "    SetAnnotationAttributes(AnnotationAtts)\n",
    "\n",
    "def addTitle(text):\n",
    "    title = CreateAnnotationObject(\"Text2D\") \n",
    "    title.position= (.4,.95)  \n",
    "    title.fontBold = 1                    \n",
    "    title.text = text\n",
    "\n",
    "def setLegend():\n",
    "    pL = GetPlotList()  \n",
    "    legend=GetAnnotationObject(pL.GetPlots(1).plotName)\n",
    "    legend.managePosition = 0    \n",
    "    legend.position = (0.05, 0.1)\n",
    "    legend.xScale = 1.5                  \n",
    "    legend.yScale = 0.45                \n",
    "    legend.fontBold = 0                 \n",
    "    legend.fontHeight = 0.05          \n",
    "    legend.drawTitle = 0     \n",
    "    legend.drawMinMax = 0 \n",
    "    legend.orientation = legend.HorizontalBottom\n",
    "    #legend.drawLabels = legend.None \n",
    "\n",
    "def drawShape():\n",
    "    activateDB(\"ne_50m_admin_0_countries.shp\")\n",
    "    AddPlot(\"Mesh\", \"polygon\")\n",
    "    MeshAtts = MeshAttributes()\n",
    "    MeshAtts.legendFlag = 0\n",
    "    MeshAtts.lineStyle = MeshAtts.SOLID  # SOLID, DASH, DOT, DOTDASH\n",
    "    MeshAtts.lineWidth = 0\n",
    "    MeshAtts.meshColor = (118, 118, 118, 255)\n",
    "    MeshAtts.meshColorSource = MeshAtts.MeshCustom  # Foreground, MeshCustom\n",
    "    SetPlotOptions(MeshAtts)\n",
    "    \n",
    "\n",
    "def setSaveImage():\n",
    "    attSave = SaveWindowAttributes()\n",
    "    attSave.outputToCurrentDirectory = 0\n",
    "    attSave.outputDirectory = imgDir\n",
    "    attSave.family = 0\n",
    "    attSave.format = attSave.PNG\n",
    "    attSave.width = 800\n",
    "    attSave.height = 1024\n",
    "    return attSave\n",
    "\n",
    "def setView():\n",
    "    View2DAtts = View2DAttributes()\n",
    "    View2DAtts.windowCoords = (-180, 180, -90, 90)\n",
    "    View2DAtts.viewportCoords = (0.05, 0.95, 0.15, 0.95)\n",
    "    View2DAtts.fullFrameActivationMode = View2DAtts.On  # On, Off, Auto\n",
    "    SetView2D(View2DAtts)"
   ]
  },
  {
   "cell_type": "code",
   "execution_count": null,
   "metadata": {
    "collapsed": false
   },
   "outputs": [],
   "source": [
    "### MAIN ###\n",
    "openFile(\"CERES_SYN1deg-Month_200003-201509_Basic.nc\")\n",
    "openFile(\"ne_50m_admin_0_countries.shp\")\n",
    "\n",
    "attSave=setSaveImage()\n",
    "setAnnotations()\n",
    "setView()\n",
    "nts=187\n"
   ]
  },
  {
   "cell_type": "code",
   "execution_count": null,
   "metadata": {
    "collapsed": false
   },
   "outputs": [],
   "source": [
    "for i in range(1,nts):\n",
    "    DeleteAllPlots()\n",
    "    TimeSliderSetState(i) \n",
    "    drawShape()\n",
    "    drawPseudoColorPlot(\"toa_net_all_mon\",\"NetFlux\",1,-215,1,196.5,1)\n",
    "    DrawPlots()\n",
    "    setLegend()\n",
    "    fImagename = \"NetFlux_%04d.png\" % i\n",
    "    attSave.fileName = fImagename\n",
    "    SetSaveWindowAttributes(attSave)\n",
    "    SaveWindow()\n",
    "\n",
    "    \n"
   ]
  }
 ],
 "metadata": {
  "kernelspec": {
   "display_name": "Python 2",
   "language": "python",
   "name": "python2"
  },
  "language_info": {
   "codemirror_mode": {
    "name": "ipython",
    "version": 2
   },
   "file_extension": ".py",
   "mimetype": "text/x-python",
   "name": "python",
   "nbconvert_exporter": "python",
   "pygments_lexer": "ipython2",
   "version": "2.7.11"
  }
 },
 "nbformat": 4,
 "nbformat_minor": 0
}
