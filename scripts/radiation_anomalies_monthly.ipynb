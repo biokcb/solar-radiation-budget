{
 "cells": [
  {
   "cell_type": "markdown",
   "metadata": {},
   "source": [
    "# Temperature Anomalies Calculation Notebook.\n"
   ]
  },
  {
   "cell_type": "code",
   "execution_count": 1,
   "metadata": {
    "collapsed": true
   },
   "outputs": [],
   "source": [
    "#get things\n",
    "import numpy as np\n",
    "import pandas as pd \n",
    "from netCDF4 import Dataset \n",
    "import numpy.ma as ma \n",
    "\n",
    "filename1 = \"CERES_SYN1deg-Month_200003-201509_Basic.nc\"\n",
    "ds1 = Dataset(filename1, mode=\"r\")\n"
   ]
  },
  {
   "cell_type": "code",
   "execution_count": 9,
   "metadata": {
    "scrolled": true
   },
   "outputs": [
    {
     "name": "stdout",
     "output_type": "stream",
     "text": [
      "<type 'netCDF4._netCDF4.Dataset'>\n",
      "root group (NETCDF3_CLASSIC data model, file format NETCDF3):\n",
      "    title: CERES SYN1deg Products - Monthly Means\n",
      "    institution: NASA/LaRC (Langley Research Center) Hampton, Va\n",
      "    Conventions: CF-1.4\n",
      "    comment: Data is from East to West and South to North. See values in latitude and longitudes dimensions.\n",
      "    version: This is version 3A: May 2, 2014\n",
      "    Fill_Value: Fill Value is -999.0\n",
      "    dimensions(sizes): lon(360), lat(180), time(187)\n",
      "    variables(dimensions): float32 \u001b[4mlon\u001b[0m(lon), float32 \u001b[4mlat\u001b[0m(lat), int32 \u001b[4mtime\u001b[0m(time), float32 \u001b[4mtoa_net_all_mon\u001b[0m(time,lat,lon), float32 \u001b[4mtoa_net_clr_mon\u001b[0m(time,lat,lon), float32 \u001b[4maux_skint_mon\u001b[0m(time,lat,lon)\n",
      "    groups: \n",
      "\n"
     ]
    }
   ],
   "source": [
    "print(ds1) # checking the data set variables, dimensions, sizes, etc so I can use that info later"
   ]
  },
  {
   "cell_type": "code",
   "execution_count": 2,
   "metadata": {},
   "outputs": [
    {
     "name": "stdout",
     "output_type": "stream",
     "text": [
      "(180L,)\n"
     ]
    }
   ],
   "source": [
    "#pull out relevant data\n",
    "time = ds1.variables['time'][0:180]\n",
    "lat = ds1.variables['lat'][:]\n",
    "lon = ds1.variables['lon'][:]\n",
    "toa = ds1.variables['toa_net_all_mon'][0:180,:,:]\n",
    "skin = ds1.variables['aux_skint_mon'][0:180,:,:]\n",
    "\n",
    "# this part I was just checking the attributes for each variable so I could save it all the same again later. \n",
    "print(np.shape(time)) "
   ]
  },
  {
   "cell_type": "code",
   "execution_count": 11,
   "metadata": {},
   "outputs": [
    {
     "data": {
      "text/plain": [
       "319.23517"
      ]
     },
     "execution_count": 11,
     "metadata": {},
     "output_type": "execute_result"
    }
   ],
   "source": [
    "np.max(skin)"
   ]
  },
  {
   "cell_type": "code",
   "execution_count": 12,
   "metadata": {},
   "outputs": [
    {
     "data": {
      "text/plain": [
       "194.3334"
      ]
     },
     "execution_count": 12,
     "metadata": {},
     "output_type": "execute_result"
    }
   ],
   "source": [
    "np.min(skin)"
   ]
  },
  {
   "cell_type": "code",
   "execution_count": 13,
   "metadata": {},
   "outputs": [
    {
     "data": {
      "text/plain": [
       "196.20041"
      ]
     },
     "execution_count": 13,
     "metadata": {},
     "output_type": "execute_result"
    }
   ],
   "source": [
    "np.max(toa)"
   ]
  },
  {
   "cell_type": "code",
   "execution_count": 14,
   "metadata": {},
   "outputs": [
    {
     "data": {
      "text/plain": [
       "-214.69356"
      ]
     },
     "execution_count": 14,
     "metadata": {},
     "output_type": "execute_result"
    }
   ],
   "source": [
    "np.min(toa)"
   ]
  },
  {
   "cell_type": "markdown",
   "metadata": {},
   "source": [
    "# Calculating anomalies\n"
   ]
  },
  {
   "cell_type": "markdown",
   "metadata": {},
   "source": [
    "## Calculating monthly averages & monthly deviations\n",
    "\n",
    "Here we are taking into account the natural variation between months. The cell below just gathers all the indices corresponding to each month over all available (complete) years."
   ]
  },
  {
   "cell_type": "code",
   "execution_count": 3,
   "metadata": {},
   "outputs": [
    {
     "name": "stdout",
     "output_type": "stream",
     "text": [
      "[[  0  12  24  36  48  60  72  84  96 108 120 132 144 156 168]\n",
      " [  1  13  25  37  49  61  73  85  97 109 121 133 145 157 169]\n",
      " [  2  14  26  38  50  62  74  86  98 110 122 134 146 158 170]\n",
      " [  3  15  27  39  51  63  75  87  99 111 123 135 147 159 171]\n",
      " [  4  16  28  40  52  64  76  88 100 112 124 136 148 160 172]\n",
      " [  5  17  29  41  53  65  77  89 101 113 125 137 149 161 173]\n",
      " [  6  18  30  42  54  66  78  90 102 114 126 138 150 162 174]\n",
      " [  7  19  31  43  55  67  79  91 103 115 127 139 151 163 175]\n",
      " [  8  20  32  44  56  68  80  92 104 116 128 140 152 164 176]\n",
      " [  9  21  33  45  57  69  81  93 105 117 129 141 153 165 177]\n",
      " [ 10  22  34  46  58  70  82  94 106 118 130 142 154 166 178]\n",
      " [ 11  23  35  47  59  71  83  95 107 119 131 143 155 167 179]]\n"
     ]
    }
   ],
   "source": [
    "#pull out which indices would correspond to the same month in our dataset\n",
    "months=np.array([0,1,2,3,4,5,6,7,8,9,10,11])\n",
    "all_months=np.array([0,1,2,3,4,5,6,7,8,9,10,11])\n",
    "\n",
    "for i in range(1,15): #each month occurs 15 times except for two months extra\n",
    "    months+=12\n",
    "    all_months=np.vstack((all_months, months))\n",
    "\n",
    "all_months = np.transpose(all_months) #so that it is divided properly\n",
    "\n",
    "print(all_months) #check that it works, just missing the last two months which I add back in later"
   ]
  },
  {
   "cell_type": "code",
   "execution_count": 7,
   "metadata": {},
   "outputs": [],
   "source": [
    "#initialize variables in same shape as toa/skin arrays. \n",
    "toa_loc_monthly_anomaly = np.empty([180,180,360])\n",
    "skin_loc_monthly_anomaly = np.empty([180,180,360])\n",
    "\n",
    "\n",
    "#calculate monthly averages and deviations from those averages\n",
    "for i in range(1,13):\n",
    "    submonths = all_months[i-1] #all others were just 15 years exactly\n",
    "    \n",
    "    #actual calculation for each month, stored in the same places as original data\n",
    "    toa_loc_monthly_anomaly[submonths,:,:] = toa[submonths,:,:] - np.mean(toa[submonths,:,:],0)\n",
    "    skin_loc_monthly_anomaly[submonths,:,:] = skin[submonths,:,:] - np.mean(skin[submonths,:,:],0)\n",
    "    "
   ]
  },
  {
   "cell_type": "code",
   "execution_count": 6,
   "metadata": {},
   "outputs": [
    {
     "data": {
      "text/plain": [
       "(180L, 180L, 360L)"
      ]
     },
     "execution_count": 6,
     "metadata": {},
     "output_type": "execute_result"
    }
   ],
   "source": [
    "np.shape(toa_loc_monthly_anomaly)"
   ]
  },
  {
   "cell_type": "markdown",
   "metadata": {},
   "source": [
    "### Annual Deviations from Average\n"
   ]
  },
  {
   "cell_type": "code",
   "execution_count": 6,
   "metadata": {
    "collapsed": true
   },
   "outputs": [],
   "source": [
    "#calculate the average over time at each lat/lon position\n",
    "toaAvgLL = np.mean(toa[:,:,:],0)\n",
    "skinAvgLL = np.mean(skin[:,:,:],0)\n",
    "all_years = np.transpose(all_months)"
   ]
  },
  {
   "cell_type": "code",
   "execution_count": 5,
   "metadata": {},
   "outputs": [],
   "source": [
    "skin_av = np.empty([180,180,360])\n",
    "toa_av = np.empty([180,180,360])\n",
    "\n",
    "for i in range(1,16):\n",
    "    skin_av[all_years[i-1],:,:] = np.mean(skin[all_years[i-1],:,:],0)-skinAvgLL\n",
    "    toa_av[all_years[i-1],:,:] = np.mean(toa[all_years[i-1],:,:],0)-toaAvgLL\n",
    "    \n",
    " "
   ]
  },
  {
   "cell_type": "code",
   "execution_count": 9,
   "metadata": {},
   "outputs": [
    {
     "data": {
      "text/plain": [
       "-10.5908203125"
      ]
     },
     "execution_count": 9,
     "metadata": {},
     "output_type": "execute_result"
    }
   ],
   "source": [
    "np.min(skin_av)"
   ]
  },
  {
   "cell_type": "code",
   "execution_count": 10,
   "metadata": {},
   "outputs": [
    {
     "data": {
      "text/plain": [
       "12.37420654296875"
      ]
     },
     "execution_count": 10,
     "metadata": {},
     "output_type": "execute_result"
    }
   ],
   "source": [
    "np.max(skin_av)"
   ]
  },
  {
   "cell_type": "markdown",
   "metadata": {},
   "source": [
    "## Saving the new data as a netCDF\n",
    "\n",
    "This section takes our newly calculated variables and saves them into a netCDF format. If you calculate more variables, just add them using the format of a variable it is similar too. Just be sure to use a unique name. This section will not be necessary when we convert it to a visit script since we will just directly plot the data."
   ]
  },
  {
   "cell_type": "code",
   "execution_count": 9,
   "metadata": {},
   "outputs": [],
   "source": [
    "# Save new data as new netCDF file\n",
    "\n",
    "#sources\n",
    "#http://salishsea-meopar-tools.readthedocs.org/en/latest/netcdf4/\n",
    "#http://nbviewer.jupyter.org/urls/bitbucket.org/salishsea/tools/raw/tip/I_ForcingFiles/Initial/PrepareTS.ipynb\n",
    "#http://stackoverflow.com/questions/28462521/saving-climatology-result-to-netcdf-file\n",
    "\n",
    "\n",
    "anom = Dataset('anomalies_b5.nc','w')\n",
    "anom.createDimension('time', 180)\n",
    "anom.createDimension('lat', 180)\n",
    "anom.createDimension('lon', 360)\n",
    "\n",
    "anom_lat = anom.createVariable('lat', 'float32', ('lat'), zlib=True)\n",
    "anom_lat.long_name='Latitude'\n",
    "anom_lat.units = 'degrees_north'\n",
    "anom_lat[:]= lat\n",
    "\n",
    "anom_lon = anom.createVariable('lon', 'float32', ('lon'), zlib=True)\n",
    "anom_lon.long_name='Longitude'\n",
    "anom_lon.units = 'degrees_east'\n",
    "anom_lon[:]= lon\n",
    "\n",
    "anom_time = anom.createVariable('time', 'int32', ('time'), zlib=True)\n",
    "anom_time.units = 'days since 2000-03-01 00:00:00'\n",
    "anom_time.longname = 'time'\n",
    "anom_time[:] = time\n",
    "\n",
    "anom_toag = anom.createVariable('toa_av', 'float32', ('time','lat','lon'), zlib=True, fill_value=-999.0)\n",
    "anom_toag.units = 'W m-2'\n",
    "anom_toag.longname = 'Annual TOA Net flux subtract all time average'\n",
    "anom_toag.coordinates = 'time lat lon'\n",
    "anom_toag.valid_range= (-400,400)\n",
    "anom_toag[:] = toa_av\n",
    "\n",
    "anom_skg = anom.createVariable('skin_av', 'float32', ('time','lat','lon'), zlib=True, fill_value=-999.0)\n",
    "anom_skg.units = 'K'\n",
    "anom_skg.longname = 'Annual Skin Temperature subtract all time average'\n",
    "anom_skg.coordinates = 'time lat lon'\n",
    "anom_skg.valid_range= (-400,400)\n",
    "anom_skg[:] = skin_av\n",
    "\n",
    "anom.close()"
   ]
  }
 ],
 "metadata": {
  "kernelspec": {
   "display_name": "Python 3",
   "language": "python",
   "name": "python3"
  },
  "language_info": {
   "codemirror_mode": {
    "name": "ipython",
    "version": 3
   },
   "file_extension": ".py",
   "mimetype": "text/x-python",
   "name": "python",
   "nbconvert_exporter": "python",
   "pygments_lexer": "ipython3",
   "version": "3.6.1"
  }
 },
 "nbformat": 4,
 "nbformat_minor": 1
}
