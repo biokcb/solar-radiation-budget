{
 "cells": [
  {
   "cell_type": "code",
   "execution_count": 9,
   "metadata": {},
   "outputs": [
    {
     "name": "stdout",
     "output_type": "stream",
     "text": [
      "<type 'netCDF4._netCDF4.Dataset'>\n",
      "root group (NETCDF3_CLASSIC data model, file format UNDEFINED):\n",
      "    title: CERES SYN1deg Products - Monthly Means\n",
      "    institution: NASA/LaRC (Langley Research Center) Hampton, Va\n",
      "    Conventions: CF-1.4\n",
      "    comment: Data is from East to West and South to North. See values in latitude and longitudes dimensions.\n",
      "    version: This is version 3A: May 2, 2014\n",
      "    Fill_Value: Fill Value is -999.0\n",
      "    dimensions(sizes): lon(360), lat(180), time(182)\n",
      "    variables(dimensions): float32 \u001b[4mlon\u001b[0m(lon), float32 \u001b[4mlat\u001b[0m(lat), int32 \u001b[4mtime\u001b[0m(time), float32 \u001b[4mtoa_net_all_mon\u001b[0m(time,lat,lon), float32 \u001b[4mtoa_net_clr_mon\u001b[0m(time,lat,lon), float32 \u001b[4maux_skint_mon\u001b[0m(time,lat,lon)\n",
      "    groups: \n",
      "\n"
     ]
    }
   ],
   "source": [
    "# Scroll to the very bottom to view the data calculations for both TOA and Temperature Deviation\n",
    "import numpy as np\n",
    "import pandas as pd \n",
    "from netCDF4 import Dataset \n",
    "import numpy.ma as ma \n",
    "from mpl_toolkits.basemap import Basemap\n",
    "import matplotlib.pyplot as plt\n",
    "\n",
    "filename = \"CERES_SYN1.nc\"\n",
    "cwDir = \"/Users/kristenbrown/Desktop/SciViz/project/\"\n",
    "ds = Dataset(cwDir+filename, mode=\"r\")\n",
    "print(ds)\n",
    "\n"
   ]
  },
  {
   "cell_type": "code",
   "execution_count": 3,
   "metadata": {},
   "outputs": [
    {
     "name": "stdout",
     "output_type": "stream",
     "text": [
      "<type 'netCDF4._netCDF4.Variable'>\n",
      "int32 time(time)\n",
      "    long_name: time\n",
      "    units: days since 2000-03-01 00:00:00\n",
      "    delta_t: 0000-00-01 00:00:00\n",
      "unlimited dimensions: \n",
      "current shape = (182,)\n",
      "filling off\n",
      "\n",
      "14\n"
     ]
    }
   ],
   "source": [
    "#pull out relevant data\n",
    "time = ds.variables['time'][:]\n",
    "lat = ds.variables['lat'][:]\n",
    "lon = ds.variables['lon'][:]\n",
    "toa = ds.variables['toa_net_all_mon'][:,:,:]\n",
    "skin = ds.variables['aux_skint_mon'][:,:,:]\n",
    "\n",
    "# this part I was just checking the attributes for each variable so I could save it all the same again later. \n",
    "print(ds.variables['time']) \n",
    "print time[0]"
   ]
  },
  {
   "cell_type": "code",
   "execution_count": 4,
   "metadata": {},
   "outputs": [
    {
     "name": "stdout",
     "output_type": "stream",
     "text": [
      "TOA min deviation:  -182.563 \n",
      "TOA max deviation:  261.303\n",
      "\n",
      "Skin temp min deviation:  -37.198 \n",
      "Skin temp max deviation:  40.537\n"
     ]
    }
   ],
   "source": [
    "#calculate the average over time at each lat/lon position\n",
    "toaAvgLL = np.mean(toa[:,:,:],0)\n",
    "skinAvgLL = np.mean(skin[:,:,:],0)\n",
    "\n",
    "#calculate the deviation from average\n",
    "toa_loc = toa - toaAvgLL\n",
    "skin_loc = skin - skinAvgLL\n",
    "\n",
    "#what is the min/max (for color table purposes it's good to know)\n",
    "print \"TOA min deviation: \", ma.min(toa_loc), \"\\nTOA max deviation: \", ma.max(toa_loc)\n",
    "print \"\\nSkin temp min deviation: \", ma.min(skin_loc), \"\\nSkin temp max deviation: \", ma.max(skin_loc)"
   ]
  },
  {
   "cell_type": "code",
   "execution_count": 5,
   "metadata": {},
   "outputs": [
    {
     "name": "stdout",
     "output_type": "stream",
     "text": [
      "Global average TOA:  -25.9306362773 \n",
      "Global average Skin Temp:  278.866281373\n",
      "\n",
      "TOA min deviation:  -188.763 \n",
      "TOA max deviation:  222.131\n",
      "\n",
      "Skin temp min deviation:  -84.5329 \n",
      "Skin temp max deviation:  40.3689\n"
     ]
    }
   ],
   "source": [
    "#calculate global average \n",
    "toaAvg = ma.average(toa)\n",
    "skinAvg = ma.average(skin)\n",
    "print \"Global average TOA: \", toaAvg, \"\\nGlobal average Skin Temp: \", skinAvg\n",
    "\n",
    "#calculate difference from global average\n",
    "toa_glob = toa - toaAvg\n",
    "skin_glob = skin - skinAvg\n",
    "\n",
    "#what is the min/max (for color table purposes it's good to know)\n",
    "print \"\\nTOA min deviation: \", ma.min(toa_glob), \"\\nTOA max deviation: \", ma.max(toa_glob)\n",
    "print \"\\nSkin temp min deviation: \", ma.min(skin_glob), \"\\nSkin temp max deviation: \", ma.max(skin_glob)"
   ]
  },
  {
   "cell_type": "code",
   "execution_count": 6,
   "metadata": {},
   "outputs": [
    {
     "name": "stdout",
     "output_type": "stream",
     "text": [
      "[[  0  12  24  36  48  60  72  84  96 108 120 132 144 156 168]\n",
      " [  1  13  25  37  49  61  73  85  97 109 121 133 145 157 169]\n",
      " [  2  14  26  38  50  62  74  86  98 110 122 134 146 158 170]\n",
      " [  3  15  27  39  51  63  75  87  99 111 123 135 147 159 171]\n",
      " [  4  16  28  40  52  64  76  88 100 112 124 136 148 160 172]\n",
      " [  5  17  29  41  53  65  77  89 101 113 125 137 149 161 173]\n",
      " [  6  18  30  42  54  66  78  90 102 114 126 138 150 162 174]\n",
      " [  7  19  31  43  55  67  79  91 103 115 127 139 151 163 175]\n",
      " [  8  20  32  44  56  68  80  92 104 116 128 140 152 164 176]\n",
      " [  9  21  33  45  57  69  81  93 105 117 129 141 153 165 177]\n",
      " [ 10  22  34  46  58  70  82  94 106 118 130 142 154 166 178]\n",
      " [ 11  23  35  47  59  71  83  95 107 119 131 143 155 167 179]]\n"
     ]
    }
   ],
   "source": [
    "#pull out which indices would correspond to the same month in our dataset\n",
    "months=np.array([0,1,2,3,4,5,6,7,8,9,10,11])\n",
    "all_months=np.array([0,1,2,3,4,5,6,7,8,9,10,11])\n",
    "\n",
    "for i in range(1,15): #each month occurs 15 times except for two months extra\n",
    "    months+=12\n",
    "    all_months=np.vstack((all_months, months))\n",
    "\n",
    "all_months = np.transpose(all_months) #so that it is divided properly\n",
    "\n",
    "print(all_months) #check that it works, just missing the last two months which I add back in later"
   ]
  },
  {
   "cell_type": "code",
   "execution_count": 7,
   "metadata": {},
   "outputs": [
    {
     "name": "stdout",
     "output_type": "stream",
     "text": [
      "Deviation from global averages by month....\n",
      "\n",
      "TOA min deviation:  -194.428390503 \n",
      "TOA max deviation:  213.714996338\n",
      "\n",
      "Skin temp min deviation:  -86.9217529297 \n",
      "Skin temp max deviation:  39.5655517578\n",
      "Deviation from averages by month and lat/lon....\n",
      "\n",
      "TOA min deviation:  -189.832275391 \n",
      "TOA max deviation:  123.84236145\n",
      "\n",
      "Skin temp min deviation:  -24.3057556152 \n",
      "Skin temp max deviation:  22.6296234131\n"
     ]
    }
   ],
   "source": [
    "#initialize variables in same shape as toa/skin arrays. \n",
    "toa_m_loc = np.empty([182,180,360])\n",
    "toa_m_glob = np.empty([182,180,360])\n",
    "skin_m_loc = np.empty([182,180,360])\n",
    "skin_m_glob = np.empty([182,180,360])\n",
    "\n",
    "#calculate monthly averages and deviations from those averages\n",
    "for i in range(1,13):\n",
    "    #just getting the right months set up\n",
    "    if i is 1:\n",
    "        submonths = np.concatenate((all_months[i-1],[180])) #need to add on the extra month\n",
    "    elif i is 2: \n",
    "        submonths = np.concatenate((all_months[i-1],[181])) #need to add on the extra month       \n",
    "    else:\n",
    "        submonths = all_months[i-1] #all others were just 15 years exactly\n",
    "    \n",
    "    #actual calculation for each month, stored in the same places as original data\n",
    "    toa_m_loc[submonths,:,:] = toa[submonths,:,:] - np.mean(toa[submonths,:,:],0)\n",
    "    toa_m_glob[submonths,:,:] = toa[submonths,:,:] - ma.average(toa[submonths,:,:])\n",
    "    skin_m_loc[submonths,:,:] = skin[submonths,:,:] - np.mean(skin[submonths,:,:],0)\n",
    "    skin_m_glob[submonths,:,:] = skin[submonths,:,:] - ma.average(skin[submonths,:,:])\n",
    "\n",
    "#what is the min/max (for color table purposes it's good to know)\n",
    "print \"Deviation from global averages by month....\"\n",
    "print \"\\nTOA min deviation: \", ma.min(toa_m_glob), \"\\nTOA max deviation: \", ma.max(toa_m_glob)\n",
    "print \"\\nSkin temp min deviation: \", ma.min(skin_m_glob), \"\\nSkin temp max deviation: \", ma.max(skin_m_glob) \n",
    "\n",
    "\n",
    "#what is the min/max (for color table purposes it's good to know)\n",
    "print \"Deviation from averages by month and lat/lon....\"\n",
    "print \"\\nTOA min deviation: \", ma.min(toa_m_loc), \"\\nTOA max deviation: \", ma.max(toa_m_loc)\n",
    "print \"\\nSkin temp min deviation: \", ma.min(skin_m_loc), \"\\nSkin temp max deviation: \", ma.max(skin_m_loc)\n"
   ]
  },
  {
   "cell_type": "code",
   "execution_count": 8,
   "metadata": {},
   "outputs": [
    {
     "name": "stdout",
     "output_type": "stream",
     "text": [
      "Deviation from averages by month and lat/lon....\n",
      "\n",
      "TOA min deviation:  -440.646484375 \n",
      "TOA max deviation:  272.119720459\n",
      "\n",
      "Skin temp min deviation:  -37.392868042 \n",
      "Skin temp max deviation:  43.5535736084\n",
      "\n",
      "Deviation from temperature in 2000....\n",
      "\n",
      "Year 0:  0.0\n",
      "Year 1:  0.133909465021\n",
      "Year 2:  0.349773662551\n",
      "Year 3:  0.198353909465\n",
      "Year 4:  0.149691358025\n",
      "Year 5:  0.454691358025\n",
      "Year 6:  0.279670781893\n",
      "Year 7:  0.280267489712\n",
      "Year 8:  0.220185185185\n",
      "Year 9:  0.218683127572\n",
      "Year 10:  0.131255144033\n",
      "Year 11:  0.219444444444\n",
      "Year 12:  0.258230452675\n",
      "Year 13:  0.318065843621\n",
      "Year 14:  0.377757201646\n",
      "\n",
      "Deviation of TOA...\n",
      "\n",
      "Year 0:  0.0\n",
      "Year 1:  -0.192646604938\n",
      "Year 2:  -0.430643004115\n",
      "Year 3:  0.306247427984\n",
      "Year 4:  0.268840020576\n",
      "Year 5:  0.0950077160494\n",
      "Year 6:  0.388973765432\n",
      "Year 7:  0.122947530864\n",
      "Year 8:  0.904308127572\n",
      "Year 9:  0.278513374486\n",
      "Year 10:  0.14120627572\n",
      "Year 11:  0.50829218107\n",
      "Year 12:  0.483518518519\n",
      "Year 13:  0.00198816872428\n",
      "Year 14:  0.149606481481\n"
     ]
    }
   ],
   "source": [
    "# decided to add one more variable. This variable uses the first year (Jan 2000- Dec 2000) as a baseline. \n",
    "all_years = np.transpose(all_months)\n",
    "skin_base = np.empty([182,180,360])\n",
    "toa_base = np.empty([182,180,360])\n",
    "\n",
    "for i in range(1,16):\n",
    "    skin_base[all_years[i-1],:,:] = skin[all_years[i-1],:,:] - np.mean(skin[[0,1,2,3,4,5,6,7,8,9,10,11],:,:],0)\n",
    "    toa_base[all_years[i-1],:,:] = toa[all_years[i-1],:,:] - np.mean(toa[[0,1,2,3,4,5,6,7,8,9,10,11],:,:],0)\n",
    "\n",
    "skin_base[[180,181],:,:] = skin[[180,181],:,:] - np.mean(skin[[0,1,2,3,4,5,6,7,8,9,10,11],:,:],0)\n",
    "toa_base[[180,181],:,:] = toa[[180,181],:,:] - np.mean(skin[[0,1,2,3,4,5,6,7,8,9,10,11],:,:],0)\n",
    "\n",
    "\n",
    "#what is the min/max (for color table purposes it's good to know)\n",
    "print \"Deviation from averages by month and lat/lon....\"\n",
    "print \"\\nTOA min deviation: \", ma.min(toa_base), \"\\nTOA max deviation: \", ma.max(toa_base)\n",
    "print \"\\nSkin temp min deviation: \", ma.min(skin_base), \"\\nSkin temp max deviation: \", ma.max(skin_base)\n",
    "\n",
    "#for the line plots:\n",
    "print \"\\nDeviation from temperature in 2000....\\n\"\n",
    "\n",
    "for i in range(1,16):\n",
    "    print \"Year \"+str(i-1)+\": \", ma.average(skin[all_years[i-1],:,:]) - ma.average(skin[[all_years[0]],:,:])\n",
    "    \n",
    "print \"\\nDeviation of TOA...\\n\"\n",
    "for l in range(1,16):\n",
    "    print \"Year \"+str(l-1)+\": \", ma.average(toa[all_years[l-1],:,:]) - ma.average(toa[[all_years[0]],:,:])    "
   ]
  }
 ],
 "metadata": {
  "kernelspec": {
   "display_name": "Python 3",
   "language": "python",
   "name": "python3"
  },
  "language_info": {
   "codemirror_mode": {
    "name": "ipython",
    "version": 3
   },
   "file_extension": ".py",
   "mimetype": "text/x-python",
   "name": "python",
   "nbconvert_exporter": "python",
   "pygments_lexer": "ipython3",
   "version": "3.6.1"
  }
 },
 "nbformat": 4,
 "nbformat_minor": 1
}
