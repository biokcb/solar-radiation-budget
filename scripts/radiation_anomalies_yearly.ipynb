{
 "cells": [
  {
   "cell_type": "markdown",
   "metadata": {},
   "source": [
    "# Temperature Anomalies Calculation Notebook.\n"
   ]
  },
  {
   "cell_type": "code",
   "execution_count": 377,
   "metadata": {},
   "outputs": [],
   "source": [
    "############## Script to calculate radiation and temperature anomalies for visualization #############################\n",
    "#\n",
    "# This script will output a new netCDF file to visualize the following new variables in Visit:\n",
    "#\n",
    "# TOA Net Flux Anomalies. Uses all months' data from 2000-2015. These variables are names in the output file.\n",
    "# toa_glob = TOA differences from the global average from 2000-2015\n",
    "# toa_loc = TOA differences from each lat,lon averages from 2000-2015\n",
    "# toa_m_glob = TOA differences from the global average by month from 2000-2015\n",
    "# toa_m_loc = TOA differences from each lat,lon averages by month from 2000-2015\n",
    "# toa_base = TOA differences from the temperature in year 2000 at each lat/lon\n",
    "#\n",
    "# Skin Temperature Anomalies. Uses Aux skin temp data from 2000-2015. These variables are names in the output file.\n",
    "# skin_glob = Skin Temp differences from the global average from 2000-2015\n",
    "# skin_loc = Skin Temp differences from each lat,lon averages from 2000-2015\n",
    "# skin_m_glob = Skin Temp differences from the global average by month from 2000-2015\n",
    "# skin_m_loc = Skin Temp differences from each lat,lon averages by month from 2000-2015\n",
    "# skin_base = Skin Temp differences from the temperature in year 2000 at each lat/lon\n",
    "# \n",
    "######################################################################################################################\n",
    "\n",
    "\n",
    "########### PLEASE add notes on ANY EDITS you make here on top of others' so we can keep track of everything!! #######\n",
    "#\n",
    "# # # Notes from Kristen 4/13/16 # # #\n",
    "#\n",
    "# This script can be used as the basis for calculating climate related anomalies from other netCDF files we download.\n",
    "# It can also be used as part of a new python script to generate the visit output images as we have done in class the \n",
    "# last few weeks. Written in Python 2.7 by the way.\n",
    "#\n",
    "# If opened as a new netCDF file, it for some reason does not create 2D plots, though the data is there\n",
    "# and shows in the legends. If someone can fix this that would be great. Also the script itself isn't the neatest so \n",
    "# if anyone has time and is willing to clean it up, that could be nice too. Just simplify some of the code if there\n",
    "# are better functions I did not know about and wrote something stupid long for. \n",
    "#\n",
    "# Let's add the visit animation capabilities from this data directly in the script so it doesn't have to be exported \n",
    "# as a new netCDF file. I wrote this in the iPython Notebook so that I could check a bunch of stuff along the way. When\n",
    "# modifying it as a .py file just export from the notebook as .py and remove the items that are just extra. Please do\n",
    "# keep all the comments and notes here and add on to existing notes as you update and upload the file to Dropbox. \n",
    "#\n",
    "#\n",
    "######################################################################################################################"
   ]
  },
  {
   "cell_type": "markdown",
   "metadata": {},
   "source": [
    "### Reading in the data\n",
    "\n",
    "Here I am just getting libraries & reading in the data. Also looking at it. Need to add in section for importing Visit so that we can generate the plates for our movie straight from the code rather than a new netCDF file. Printing the dataset allowed me to see the different variables available. Which I pulled out for later use."
   ]
  },
  {
   "cell_type": "code",
   "execution_count": 3,
   "metadata": {},
   "outputs": [],
   "source": [
    "#get things\n",
    "import numpy as np\n",
    "import pandas as pd \n",
    "from netCDF4 import Dataset \n",
    "import numpy.ma as ma \n",
    "\n",
    "filename = \"/Users/kristenbrown/Desktop/SciViz/project/CERES_SYN1.nc\"\n",
    "ds = Dataset(filename, mode=\"r\")"
   ]
  },
  {
   "cell_type": "code",
   "execution_count": 379,
   "metadata": {},
   "outputs": [
    {
     "name": "stdout",
     "output_type": "stream",
     "text": [
      "<type 'netCDF4._netCDF4.Dataset'>\n",
      "root group (NETCDF3_CLASSIC data model, file format NETCDF3):\n",
      "    title: CERES SYN1deg Products - Monthly Means\n",
      "    institution: NASA/LaRC (Langley Research Center) Hampton, Va\n",
      "    Conventions: CF-1.4\n",
      "    comment: Data is from East to West and South to North. See values in latitude and longitudes dimensions.\n",
      "    version: This is version 3A: May 2, 2014\n",
      "    Fill_Value: Fill Value is -999.0\n",
      "    dimensions(sizes): lon(360), lat(180), time(182)\n",
      "    variables(dimensions): float32 \u001b[4mlon\u001b[0m(lon), float32 \u001b[4mlat\u001b[0m(lat), int32 \u001b[4mtime\u001b[0m(time), float32 \u001b[4mtoa_net_all_mon\u001b[0m(time,lat,lon), float32 \u001b[4mtoa_net_clr_mon\u001b[0m(time,lat,lon), float32 \u001b[4maux_skint_mon\u001b[0m(time,lat,lon)\n",
      "    groups: \n",
      "\n"
     ]
    }
   ],
   "source": [
    "print(ds) # checking the data set variables, dimensions, sizes, etc so I can use that info later"
   ]
  },
  {
   "cell_type": "code",
   "execution_count": 6,
   "metadata": {},
   "outputs": [
    {
     "name": "stdout",
     "output_type": "stream",
     "text": [
      "<type 'netCDF4._netCDF4.Variable'>\n",
      "int32 time(time)\n",
      "    long_name: time\n",
      "    units: days since 2000-03-01 00:00:00\n",
      "    delta_t: 0000-00-01 00:00:00\n",
      "unlimited dimensions: \n",
      "current shape = (182,)\n",
      "filling off\n",
      "\n",
      "14\n"
     ]
    }
   ],
   "source": [
    "#pull out relevant data\n",
    "time = ds.variables['time'][:]\n",
    "lat = ds.variables['lat'][:]\n",
    "lon = ds.variables['lon'][:]\n",
    "toa = ds.variables['toa_net_all_mon'][:,:,:]\n",
    "skin = ds.variables['aux_skint_mon'][:,:,:]\n",
    "\n",
    "# this part I was just checking the attributes for each variable so I could save it all the same again later. \n",
    "print(ds.variables['time']) \n",
    "print time[0]"
   ]
  },
  {
   "cell_type": "markdown",
   "metadata": {},
   "source": [
    "## Calculating anomalies\n",
    "\n",
    "Here is where the calculations begin. \n",
    "\n",
    "### Local deviation: _loc variable\n",
    "The very first section (below) calculates the average TOA or Skin Temp at each latitude/longitude position over the entire timecourse (2000-2015). This is used as our \"baseline\". Each time point is then \"normalized\" by this baseline. \n",
    "\n",
    "\n",
    "TOA at position (1,1) in month 1/2000 - TOA at position (1,1) averaged over all months 2000-2015."
   ]
  },
  {
   "cell_type": "code",
   "execution_count": 381,
   "metadata": {},
   "outputs": [
    {
     "name": "stdout",
     "output_type": "stream",
     "text": [
      "TOA min deviation:  -182.563 \n",
      "TOA max deviation:  261.303\n",
      "\n",
      "Skin temp min deviation:  -37.198 \n",
      "Skin temp max deviation:  40.537\n"
     ]
    }
   ],
   "source": [
    "#calculate the average over time at each lat/lon position\n",
    "toaAvgLL = np.mean(toa[:,:,:],0)\n",
    "skinAvgLL = np.mean(skin[:,:,:],0)\n",
    "\n",
    "#calculate the deviation from average\n",
    "toa_loc = toa - toaAvgLL\n",
    "skin_loc = skin - skinAvgLL\n",
    "\n",
    "#what is the min/max (for color table purposes it's good to know)\n",
    "print \"TOA min deviation: \", ma.min(toa_loc), \"\\nTOA max deviation: \", ma.max(toa_loc)\n",
    "print \"\\nSkin temp min deviation: \", ma.min(skin_loc), \"\\nSkin temp max deviation: \", ma.max(skin_loc)"
   ]
  },
  {
   "cell_type": "markdown",
   "metadata": {},
   "source": [
    "### Global deviation: _glob variable\n",
    "\n",
    "Here is the subtraction of the global average over all time 2000-2015. So this is a single number over the entire globe in 15 years. \n",
    "\n",
    "TOA at position (1,1) in month 1/2000 - TOA averaged over whole globe & all months 2000-2015"
   ]
  },
  {
   "cell_type": "code",
   "execution_count": 382,
   "metadata": {},
   "outputs": [
    {
     "name": "stdout",
     "output_type": "stream",
     "text": [
      "Global average TOA:  -25.9306362773 \n",
      "Global average Skin Temp:  278.866281373\n",
      "\n",
      "TOA min deviation:  -188.763 \n",
      "TOA max deviation:  222.131\n",
      "\n",
      "Skin temp min deviation:  -84.5329 \n",
      "Skin temp max deviation:  40.3689\n"
     ]
    }
   ],
   "source": [
    "#calculate global average \n",
    "toaAvg = ma.average(toa)\n",
    "skinAvg = ma.average(skin)\n",
    "print \"Global average TOA: \", toaAvg, \"\\nGlobal average Skin Temp: \", skinAvg\n",
    "\n",
    "#calculate difference from global average\n",
    "toa_glob = toa - toaAvg\n",
    "skin_glob = skin - skinAvg\n",
    "\n",
    "#what is the min/max (for color table purposes it's good to know)\n",
    "print \"\\nTOA min deviation: \", ma.min(toa_glob), \"\\nTOA max deviation: \", ma.max(toa_glob)\n",
    "print \"\\nSkin temp min deviation: \", ma.min(skin_glob), \"\\nSkin temp max deviation: \", ma.max(skin_glob)"
   ]
  },
  {
   "cell_type": "markdown",
   "metadata": {},
   "source": [
    "## Calculating monthly averages & deviations\n",
    "\n",
    "Here we are taking into account the natural variation between months. The cell below just gathers all the indices corresponding to each month over all available (complete) years."
   ]
  },
  {
   "cell_type": "code",
   "execution_count": 383,
   "metadata": {},
   "outputs": [
    {
     "name": "stdout",
     "output_type": "stream",
     "text": [
      "[[  0  12  24  36  48  60  72  84  96 108 120 132 144 156 168]\n",
      " [  1  13  25  37  49  61  73  85  97 109 121 133 145 157 169]\n",
      " [  2  14  26  38  50  62  74  86  98 110 122 134 146 158 170]\n",
      " [  3  15  27  39  51  63  75  87  99 111 123 135 147 159 171]\n",
      " [  4  16  28  40  52  64  76  88 100 112 124 136 148 160 172]\n",
      " [  5  17  29  41  53  65  77  89 101 113 125 137 149 161 173]\n",
      " [  6  18  30  42  54  66  78  90 102 114 126 138 150 162 174]\n",
      " [  7  19  31  43  55  67  79  91 103 115 127 139 151 163 175]\n",
      " [  8  20  32  44  56  68  80  92 104 116 128 140 152 164 176]\n",
      " [  9  21  33  45  57  69  81  93 105 117 129 141 153 165 177]\n",
      " [ 10  22  34  46  58  70  82  94 106 118 130 142 154 166 178]\n",
      " [ 11  23  35  47  59  71  83  95 107 119 131 143 155 167 179]]\n"
     ]
    }
   ],
   "source": [
    "#pull out which indices would correspond to the same month in our dataset\n",
    "months=np.array([0,1,2,3,4,5,6,7,8,9,10,11])\n",
    "all_months=np.array([0,1,2,3,4,5,6,7,8,9,10,11])\n",
    "\n",
    "for i in range(1,15): #each month occurs 15 times except for two months extra\n",
    "    months+=12\n",
    "    all_months=np.vstack((all_months, months))\n",
    "\n",
    "all_months = np.transpose(all_months) #so that it is divided properly\n",
    "\n",
    "print(all_months) #check that it works, just missing the last two months which I add back in later"
   ]
  },
  {
   "cell_type": "markdown",
   "metadata": {},
   "source": [
    "### Monthly deviations: _m_glob and _m_loc variables\n",
    "\n",
    "This section calculates a similar variable as before, except we average by individual months over all time instead of by all months over all time. \n",
    "\n",
    "toa_m_loc\n",
    "\n",
    "TOA at position (1,1) in month 1/2000 - TOA at position (1,1) averaged over all Januaries from 2000-2015\n",
    "\n",
    "\n",
    "toa_m_glob\n",
    "\n",
    "TOA at position (1,1) in month 1/2000 - Global average TOA averaged over all Januaries from 2000-2015"
   ]
  },
  {
   "cell_type": "code",
   "execution_count": 384,
   "metadata": {},
   "outputs": [
    {
     "name": "stdout",
     "output_type": "stream",
     "text": [
      "Deviation from global averages by month....\n",
      "\n",
      "TOA min deviation:  -194.428390503 \n",
      "TOA max deviation:  213.714996338\n",
      "\n",
      "Skin temp min deviation:  -86.9217529297 \n",
      "Skin temp max deviation:  39.5655517578\n",
      "Deviation from averages by month and lat/lon....\n",
      "\n",
      "TOA min deviation:  -189.832275391 \n",
      "TOA max deviation:  123.84236145\n",
      "\n",
      "Skin temp min deviation:  -24.3057556152 \n",
      "Skin temp max deviation:  22.6296234131\n"
     ]
    }
   ],
   "source": [
    "#initialize variables in same shape as toa/skin arrays. \n",
    "toa_m_loc = np.empty([182,180,360])\n",
    "toa_m_glob = np.empty([182,180,360])\n",
    "skin_m_loc = np.empty([182,180,360])\n",
    "skin_m_glob = np.empty([182,180,360])\n",
    "\n",
    "#calculate monthly averages and deviations from those averages\n",
    "for i in range(1,13):\n",
    "    #just getting the right months set up\n",
    "    if i is 1:\n",
    "        submonths = np.concatenate((all_months[i-1],[180])) #need to add on the extra month\n",
    "    elif i is 2: \n",
    "        submonths = np.concatenate((all_months[i-1],[181])) #need to add on the extra month       \n",
    "    else:\n",
    "        submonths = all_months[i-1] #all others were just 15 years exactly\n",
    "    \n",
    "    #actual calculation for each month, stored in the same places as original data\n",
    "    toa_m_loc[submonths,:,:] = toa[submonths,:,:] - np.mean(toa[submonths,:,:],0)\n",
    "    toa_m_glob[submonths,:,:] = toa[submonths,:,:] - ma.average(toa[submonths,:,:])\n",
    "    skin_m_loc[submonths,:,:] = skin[submonths,:,:] - np.mean(skin[submonths,:,:],0)\n",
    "    skin_m_glob[submonths,:,:] = skin[submonths,:,:] - ma.average(skin[submonths,:,:])\n",
    "\n",
    "#what is the min/max (for color table purposes it's good to know)\n",
    "print \"Deviation from global averages by month....\"\n",
    "print \"\\nTOA min deviation: \", ma.min(toa_m_glob), \"\\nTOA max deviation: \", ma.max(toa_m_glob)\n",
    "print \"\\nSkin temp min deviation: \", ma.min(skin_m_glob), \"\\nSkin temp max deviation: \", ma.max(skin_m_glob) \n",
    "\n",
    "\n",
    "#what is the min/max (for color table purposes it's good to know)\n",
    "print \"Deviation from averages by month and lat/lon....\"\n",
    "print \"\\nTOA min deviation: \", ma.min(toa_m_loc), \"\\nTOA max deviation: \", ma.max(toa_m_loc)\n",
    "print \"\\nSkin temp min deviation: \", ma.min(skin_m_loc), \"\\nSkin temp max deviation: \", ma.max(skin_m_loc)"
   ]
  },
  {
   "cell_type": "markdown",
   "metadata": {},
   "source": [
    "### Deviation from year 2000: _base variables\n",
    "\n",
    "This section calculates the deviations from the year 2000. The average for year 2000 is calculated at each latitude and longitude and used as the \"baseline\". This way we look at changes since the year 2000. This can also take into account months that we have data for but can't calculate the yearly average. \n",
    "\n",
    "TOA at position (1,1) in month 1/2000 - TOA at position (1,1) averaged over all months in the year 2000. "
   ]
  },
  {
   "cell_type": "code",
   "execution_count": 385,
   "metadata": {},
   "outputs": [
    {
     "name": "stdout",
     "output_type": "stream",
     "text": [
      "Deviation from averages by month and lat/lon....\n",
      "\n",
      "TOA min deviation:  -440.646484375 \n",
      "TOA max deviation:  272.119720459\n",
      "\n",
      "Skin temp min deviation:  -37.392868042 \n",
      "Skin temp max deviation:  43.5535736084\n",
      "\n",
      "Deviation from temperature in 2000....\n",
      "\n",
      "Year 0:  0.0\n",
      "Year 1:  0.133909465021\n",
      "Year 2:  0.349773662551\n",
      "Year 3:  0.198353909465\n",
      "Year 4:  0.149691358025\n",
      "Year 5:  0.454691358025\n",
      "Year 6:  0.279670781893\n",
      "Year 7:  0.280267489712\n",
      "Year 8:  0.220185185185\n",
      "Year 9:  0.218683127572\n",
      "Year 10:  0.131255144033\n",
      "Year 11:  0.219444444444\n",
      "Year 12:  0.258230452675\n",
      "Year 13:  0.318065843621\n",
      "Year 14:  0.377757201646\n"
     ]
    }
   ],
   "source": [
    "# decided to add one more variable. This variable uses the first year (Jan 2000- Dec 2000) as a baseline. \n",
    "all_years = np.transpose(all_months)\n",
    "skin_base = np.empty([182,180,360])\n",
    "toa_base = np.empty([182,180,360])\n",
    "\n",
    "for i in range(1,16):\n",
    "    skin_base[all_years[i-1],:,:] = skin[all_years[i-1],:,:] - np.mean(skin[[0,1,2,3,4,5,6,7,8,9,10,11],:,:],0)\n",
    "    toa_base[all_years[i-1],:,:] = toa[all_years[i-1],:,:] - np.mean(toa[[0,1,2,3,4,5,6,7,8,9,10,11],:,:],0)\n",
    "\n",
    "skin_base[[180,181],:,:] = skin[[180,181],:,:] - np.mean(skin[[0,1,2,3,4,5,6,7,8,9,10,11],:,:],0)\n",
    "toa_base[[180,181],:,:] = toa[[180,181],:,:] - np.mean(skin[[0,1,2,3,4,5,6,7,8,9,10,11],:,:],0)\n",
    "\n",
    "\n",
    "#what is the min/max (for color table purposes it's good to know)\n",
    "print \"Deviation from averages by month and lat/lon....\"\n",
    "print \"\\nTOA min deviation: \", ma.min(toa_base), \"\\nTOA max deviation: \", ma.max(toa_base)\n",
    "print \"\\nSkin temp min deviation: \", ma.min(skin_base), \"\\nSkin temp max deviation: \", ma.max(skin_base)\n",
    "\n",
    "#for the line plots:\n",
    "print \"\\nDeviation from temperature in 2000....\\n\"\n",
    "\n",
    "for i in range(1,16):\n",
    "    print \"Year \"+str(i-1)+\": \", ma.average(skin[all_years[i-1],:,:]) - ma.average(skin[[all_years[0]],:,:])"
   ]
  },
  {
   "cell_type": "markdown",
   "metadata": {},
   "source": [
    "### Deviations from the year 2000: _av variable\n",
    "\n",
    "This section calculates the same baseline as the last section (average value at each latitude and longitude for the whole year 2000). In this instance however, we also calculate the same average for each year since then. \n",
    "\n",
    "TOA at position (1,1) for all months averaged in the year 2001 - TOA at position (1,1) for all months averaged in the year 2000."
   ]
  },
  {
   "cell_type": "code",
   "execution_count": 386,
   "metadata": {},
   "outputs": [
    {
     "name": "stdout",
     "output_type": "stream",
     "text": [
      "Deviation from averages by month and lat/lon....\n",
      "\n",
      "TOA min deviation:  -29.673324585 \n",
      "TOA max deviation:  44.7760314941\n",
      "\n",
      "Skin temp min deviation:  -20.220489502 \n",
      "Skin temp max deviation:  15.0378417969\n"
     ]
    }
   ],
   "source": [
    "# decided to add one more variable. This variable uses the first year (Jan 2000- Dec 2000) as a baseline. \n",
    "all_years = np.transpose(all_months)\n",
    "skin_av = np.empty([182,180,360])\n",
    "toa_av = np.empty([182,180,360])\n",
    "\n",
    "for i in range(1,16):\n",
    "    skin_av[all_years[i-1],:,:] = np.mean(skin[all_years[i-1],:,:],0) - np.mean(skin[[0,1,2,3,4,5,6,7,8,9,10,11],:,:],0)\n",
    "    toa_av[all_years[i-1],:,:] = np.mean(toa[all_years[i-1],:,:],0) - np.mean(toa[[0,1,2,3,4,5,6,7,8,9,10,11],:,:],0)\n",
    "\n",
    "#what is the min/max (for color table purposes it's good to know)\n",
    "print \"Deviation from averages by month and lat/lon....\"\n",
    "print \"\\nTOA min deviation: \", ma.min(toa_av), \"\\nTOA max deviation: \", ma.max(toa_av)\n",
    "print \"\\nSkin temp min deviation: \", ma.min(skin_av), \"\\nSkin temp max deviation: \", ma.max(skin_av)"
   ]
  },
  {
   "cell_type": "markdown",
   "metadata": {},
   "source": [
    "## Saving the new data as a netCDF\n",
    "\n",
    "This section takes our newly calculated variables and saves them into a netCDF format. If you calculate more variables, just add them using the format of a variable it is similar too. Just be sure to use a unique name. This section will not be necessary when we convert it to a visit script since we will just directly plot the data."
   ]
  },
  {
   "cell_type": "code",
   "execution_count": 387,
   "metadata": {},
   "outputs": [],
   "source": [
    "# Save new data as new netCDF file\n",
    "\n",
    "#sources\n",
    "#http://salishsea-meopar-tools.readthedocs.org/en/latest/netcdf4/\n",
    "#http://nbviewer.jupyter.org/urls/bitbucket.org/salishsea/tools/raw/tip/I_ForcingFiles/Initial/PrepareTS.ipynb\n",
    "#http://stackoverflow.com/questions/28462521/saving-climatology-result-to-netcdf-file\n",
    "\n",
    "\n",
    "anom = Dataset('anomalies_4-14.nc','w')\n",
    "anom.createDimension('time', 182)\n",
    "anom.createDimension('lat', 180)\n",
    "anom.createDimension('lon', 360)\n",
    "\n",
    "anom_lat = anom.createVariable('lat', 'float32', ('lat'), zlib=True)\n",
    "anom_lat.long_name='Latitude'\n",
    "anom_lat.units = 'degrees_north'\n",
    "anom_lat[:]= lat\n",
    "\n",
    "anom_lon = anom.createVariable('lon', 'float32', ('lon'), zlib=True)\n",
    "anom_lon.long_name='Longitude'\n",
    "anom_lon.units = 'degrees_east'\n",
    "anom_lon[:]= lon\n",
    "\n",
    "anom_time = anom.createVariable('time', 'int32', ('time'), zlib=True)\n",
    "anom_time.units = 'days since 2000-03-01 00:00:00'\n",
    "anom_time.longname = 'time'\n",
    "anom_time[:] = time\n",
    "\n",
    "anom_toag = anom.createVariable('toa_glob', 'float32', ('time','lat','lon'), zlib=True, fill_value=-999.0)\n",
    "anom_toag.units = 'W m-2'\n",
    "anom_toag.longname = 'TOA Net flux all months, subtract global average'\n",
    "anom_toag.coordinates = 'time lat lon'\n",
    "anom_toag.valid_range= (-400,400)\n",
    "anom_toag[:] = toa_glob\n",
    "\n",
    "anom_toal = anom.createVariable('toa_loc', 'float32', ('time','lat','lon'), zlib=True, fill_value=-999.0)\n",
    "anom_toal.units = 'W m-2'\n",
    "anom_toal.longname = 'TOA Net flux all months, subtract lat/lon average'\n",
    "anom_toal.coordinates = 'time lat lon'\n",
    "anom_toal.valid_range= (-400,400)\n",
    "anom_toal[:] = toa_loc\n",
    "\n",
    "anom_skg = anom.createVariable('skin_glob', 'float32', ('time','lat','lon'), zlib=True, fill_value=-999.0)\n",
    "anom_skg.units = 'K'\n",
    "anom_skg.longname = 'Skin Temperature all months, subtract global average'\n",
    "anom_skg.coordinates = 'time lat lon'\n",
    "anom_skg.valid_range= (-400,400)\n",
    "anom_skg[:] = skin_glob\n",
    "\n",
    "anom_skl = anom.createVariable('skin_loc', 'float32', ('time','lat','lon'), zlib=True, fill_value=-999.0)\n",
    "anom_skl.units = 'K'\n",
    "anom_skl.longname = 'Skin Temperature all months, subtract lat/lon average'\n",
    "anom_skl.coordinates = 'time lat lon'\n",
    "anom_skl.valid_range= (-400,400)\n",
    "anom_skl[:] = skin_loc\n",
    "\n",
    "anom_toamg = anom.createVariable('toa_m_glob', 'float32', ('time','lat','lon'), zlib=True, fill_value=-999.0)\n",
    "anom_toamg.units = 'W m-2'\n",
    "anom_toamg.longname = 'TOA Net flux all months, subtract global average by month'\n",
    "anom_toamg.coordinates = 'time lat lon'\n",
    "anom_toamg.valid_range= (-400,400)\n",
    "anom_toamg[:] = toa_m_glob\n",
    "\n",
    "anom_toaml = anom.createVariable('toa_m_loc', 'float32', ('time','lat','lon'), zlib=True, fill_value=-999.0)\n",
    "anom_toaml.units = 'W m-2'\n",
    "anom_toaml.longname = 'TOA Net flux all months, subtract lat/lon average by month'\n",
    "anom_toaml.coordinates = 'time lat lon'\n",
    "anom_toaml.valid_range= (-400,400)\n",
    "anom_toaml[:] = toa_m_loc\n",
    "\n",
    "anom_skmg = anom.createVariable('skin_m_glob', 'float32', ('time','lat','lon'), zlib=True, fill_value=-999.0)\n",
    "anom_skmg.units = 'K'\n",
    "anom_skmg.longname = 'Skin Temperature all months, subtract global average by month'\n",
    "anom_skmg.coordinates = 'time lat lon'\n",
    "anom_skmg.valid_range= (-400,400)\n",
    "anom_skmg[:] = skin_m_glob\n",
    "\n",
    "anom_skml = anom.createVariable('skin_m_loc', 'float32', ('time','lat','lon'), zlib=True, fill_value=-999.0)\n",
    "anom_skml.units = 'K'\n",
    "anom_skml.longname = 'Skin Temperature all months, subtract lat/lon average by month'\n",
    "anom_skml.coordinates = 'time lat lon'\n",
    "anom_skml.valid_range= (-400,400)\n",
    "anom_skml[:] = skin_m_loc\n",
    "\n",
    "anom_toamb = anom.createVariable('toa_base', 'float32', ('time','lat','lon'), zlib=True, fill_value=-999.0)\n",
    "anom_toamb.units = 'W m-2'\n",
    "anom_toamb.longname = 'TOA Net flux all months, subtract year 2000'\n",
    "anom_toamb.coordinates = 'time lat lon'\n",
    "anom_toamb.valid_range= (-400,400)\n",
    "anom_toamb[:] = toa_base\n",
    "\n",
    "anom_skmb = anom.createVariable('skin_base', 'float32', ('time','lat','lon'), zlib=True, fill_value=-999.0)\n",
    "anom_skmb.units = 'K'\n",
    "anom_skmb.longname = 'Skin Temperature all months, subtract year 2000'\n",
    "anom_skmb.coordinates = 'time lat lon'\n",
    "anom_skmb.valid_range= (-400,400)\n",
    "anom_skmb[:] = skin_base\n",
    "\n",
    "anom_toamb = anom.createVariable('toa_av', 'float32', ('time','lat','lon'), zlib=True, fill_value=-999.0)\n",
    "anom_toamb.units = 'W m-2'\n",
    "anom_toamb.longname = 'TOA Net flux all months, subtract year 2000'\n",
    "anom_toamb.coordinates = 'time lat lon'\n",
    "anom_toamb.valid_range= (-400,400)\n",
    "anom_toamb[:] = toa_av\n",
    "\n",
    "anom_skmb = anom.createVariable('skin_av', 'float32', ('time','lat','lon'), zlib=True, fill_value=-999.0)\n",
    "anom_skmb.units = 'K'\n",
    "anom_skmb.longname = 'Skin Temperature all months, subtract year 2000'\n",
    "anom_skmb.coordinates = 'time lat lon'\n",
    "anom_skmb.valid_range= (-400,400)\n",
    "anom_skmb[:] = skin_av\n",
    "\n",
    "anom.close()"
   ]
  },
  {
   "cell_type": "markdown",
   "metadata": {},
   "source": [
    "## Check the output\n",
    "\n",
    "The output opens with Visit (at least for me it works fine). This section is to also check that the netCDF file actually stored our new data. "
   ]
  },
  {
   "cell_type": "code",
   "execution_count": 308,
   "metadata": {},
   "outputs": [
    {
     "name": "stdout",
     "output_type": "stream",
     "text": [
      "<type 'netCDF4._netCDF4.Dataset'>\n",
      "root group (NETCDF4 data model, file format HDF5):\n",
      "    dimensions(sizes): time(182), lat(180), lon(360)\n",
      "    variables(dimensions): float32 \u001b[4mlat\u001b[0m(lat), float32 \u001b[4mlon\u001b[0m(lon), int32 \u001b[4mtime\u001b[0m(time), float32 \u001b[4mtoa_glob\u001b[0m(time,lat,lon), float32 \u001b[4mtoa_loc\u001b[0m(time,lat,lon), float32 \u001b[4mskin_glob\u001b[0m(time,lat,lon), float32 \u001b[4mskin_loc\u001b[0m(time,lat,lon), float32 \u001b[4mtoa_m_glob\u001b[0m(time,lat,lon), float32 \u001b[4mtoa_m_loc\u001b[0m(time,lat,lon), float32 \u001b[4mskin_m_glob\u001b[0m(time,lat,lon), float32 \u001b[4mskin_m_loc\u001b[0m(time,lat,lon)\n",
      "    groups: \n",
      "\n",
      "OrderedDict([(u'time', <type 'netCDF4._netCDF4.Dimension'>: name = 'time', size = 182\n",
      "), (u'lat', <type 'netCDF4._netCDF4.Dimension'>: name = 'lat', size = 180\n",
      "), (u'lon', <type 'netCDF4._netCDF4.Dimension'>: name = 'lon', size = 360\n",
      ")])\n",
      "[[ 6.04196548  6.04196548  6.04196548 ...,  6.04196548  6.04196548\n",
      "   6.04196548]\n",
      " [ 6.08597803  6.08597803  6.08597803 ...,  5.62767887  5.62767887\n",
      "   5.62767887]\n",
      " [ 3.86646509  3.86646509  3.86646509 ...,  3.39739656  3.39739656\n",
      "   3.39739656]\n",
      " ..., \n",
      " [-3.05375814 -3.05375814 -3.05375814 ..., -2.33396578 -2.33396578\n",
      "  -2.33396578]\n",
      " [-4.10957193 -4.10957193 -4.10957193 ..., -3.58007097 -3.58007097\n",
      "  -3.58007097]\n",
      " [-5.48456907 -5.48456907 -5.48456907 ..., -5.48456907 -5.48456907\n",
      "  -5.48456907]]\n"
     ]
    }
   ],
   "source": [
    "# Open new netCDF file to check that it stored things\n",
    "ds2 = Dataset('anomalies.nc','r')\n",
    "print(ds2)\n",
    "print(ds2.dimensions)\n",
    "print(ds2.variables['toa_glob'][1,:,:])"
   ]
  },
  {
   "cell_type": "code",
   "execution_count": null,
   "metadata": {
    "collapsed": true
   },
   "outputs": [],
   "source": []
  }
 ],
 "metadata": {
  "kernelspec": {
   "display_name": "Python 3",
   "language": "python",
   "name": "python3"
  },
  "language_info": {
   "codemirror_mode": {
    "name": "ipython",
    "version": 3
   },
   "file_extension": ".py",
   "mimetype": "text/x-python",
   "name": "python",
   "nbconvert_exporter": "python",
   "pygments_lexer": "ipython3",
   "version": "3.6.1"
  }
 },
 "nbformat": 4,
 "nbformat_minor": 1
}
